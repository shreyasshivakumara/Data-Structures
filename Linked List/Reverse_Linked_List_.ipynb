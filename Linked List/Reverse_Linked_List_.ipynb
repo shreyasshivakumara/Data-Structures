{
  "nbformat": 4,
  "nbformat_minor": 0,
  "metadata": {
    "colab": {
      "name": "Reversal_Linked_List .ipynb",
      "provenance": []
    },
    "kernelspec": {
      "name": "python3",
      "display_name": "Python 3"
    }
  },
  "cells": [
    {
      "cell_type": "code",
      "metadata": {
        "id": "AylvQgDiL8T1",
        "colab_type": "code",
        "colab": {}
      },
      "source": [
        "class Node(object):\n",
        "    \n",
        "    def __init__(self,value):\n",
        "        \n",
        "        self.value = value\n",
        "        self.nextnode = None"
      ],
      "execution_count": 1,
      "outputs": []
    },
    {
      "cell_type": "code",
      "metadata": {
        "id": "y46wXp2pMEEF",
        "colab_type": "code",
        "colab": {}
      },
      "source": [
        "def reverse(head):\n",
        "    \n",
        "    \n",
        "    current = head \n",
        "    previous = None\n",
        "    next_state = None\n",
        "    \n",
        "    while current != None:\n",
        "        next_state = current.nextnode\n",
        "        current.nextnode = previous\n",
        "        previous = current\n",
        "        current = next_state\n",
        "    return previous\n",
        "        \n",
        "    pass"
      ],
      "execution_count": 2,
      "outputs": []
    },
    {
      "cell_type": "code",
      "metadata": {
        "id": "5keQs6MKMIiQ",
        "colab_type": "code",
        "colab": {}
      },
      "source": [
        "# Create a list of 4 nodes\n",
        "a = Node(1)\n",
        "b = Node(2)\n",
        "c = Node(3)\n",
        "d = Node(4)\n",
        "\n",
        "# Set up order a,b,c,d with values 1,2,3,4\n",
        "a.nextnode = b\n",
        "b.nextnode = c\n",
        "c.nextnode = d"
      ],
      "execution_count": 3,
      "outputs": []
    },
    {
      "cell_type": "code",
      "metadata": {
        "id": "zef27596MLKU",
        "colab_type": "code",
        "colab": {
          "base_uri": "https://localhost:8080/",
          "height": 67
        },
        "outputId": "e518cf89-4912-4f70-e162-9c6983de2247"
      },
      "source": [
        "print(a.nextnode.value)\n",
        "print(b.nextnode.value)\n",
        "print(c.nextnode.value)"
      ],
      "execution_count": 4,
      "outputs": [
        {
          "output_type": "stream",
          "text": [
            "2\n",
            "3\n",
            "4\n"
          ],
          "name": "stdout"
        }
      ]
    },
    {
      "cell_type": "code",
      "metadata": {
        "id": "xZPQl7XYMM6h",
        "colab_type": "code",
        "colab": {
          "base_uri": "https://localhost:8080/",
          "height": 34
        },
        "outputId": "ffc121d0-49b9-447d-e070-b13f4bc11b46"
      },
      "source": [
        "reverse(a)"
      ],
      "execution_count": 6,
      "outputs": [
        {
          "output_type": "execute_result",
          "data": {
            "text/plain": [
              "<__main__.Node at 0x7f26592280f0>"
            ]
          },
          "metadata": {
            "tags": []
          },
          "execution_count": 6
        }
      ]
    },
    {
      "cell_type": "code",
      "metadata": {
        "id": "8hmlwsiMMPSF",
        "colab_type": "code",
        "colab": {
          "base_uri": "https://localhost:8080/",
          "height": 67
        },
        "outputId": "346a45eb-f145-4d3f-e42c-f53acabac4c5"
      },
      "source": [
        "print(d.nextnode.value)\n",
        "print(c.nextnode.value)\n",
        "print(b.nextnode.value)"
      ],
      "execution_count": 7,
      "outputs": [
        {
          "output_type": "stream",
          "text": [
            "3\n",
            "2\n",
            "1\n"
          ],
          "name": "stdout"
        }
      ]
    },
    {
      "cell_type": "code",
      "metadata": {
        "id": "SLPFAeXsMUE9",
        "colab_type": "code",
        "colab": {}
      },
      "source": [
        ""
      ],
      "execution_count": null,
      "outputs": []
    }
  ]
}