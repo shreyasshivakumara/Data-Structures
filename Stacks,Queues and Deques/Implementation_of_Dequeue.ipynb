{
  "nbformat": 4,
  "nbformat_minor": 0,
  "metadata": {
    "colab": {
      "name": "Implementation of Queue.ipynb",
      "provenance": [],
      "collapsed_sections": []
    },
    "kernelspec": {
      "name": "python3",
      "display_name": "Python 3"
    }
  },
  "cells": [
    {
      "cell_type": "code",
      "metadata": {
        "id": "kEaOeA11G2Sl",
        "colab_type": "code",
        "colab": {}
      },
      "source": [
        "class Dequeue(object):\n",
        "    def __init__(self):\n",
        "        self.items = []\n",
        "    \n",
        "    def isEmpty(self):\n",
        "        return self.items == []\n",
        "    \n",
        "    def addRear(self,item):\n",
        "        self.items.insert(0,item)\n",
        "    \n",
        "    def addFront(self,item):\n",
        "        self.items.append(item)\n",
        "        \n",
        "    def removeRear(self):\n",
        "        return self.items.pop(0)\n",
        "    \n",
        "    def removeFront(self):\n",
        "        return self.items.pop()\n",
        "        \n",
        "    def size(self):\n",
        "        return len(self.items)"
      ],
      "execution_count": 17,
      "outputs": []
    },
    {
      "cell_type": "code",
      "metadata": {
        "id": "gdEjPt5IG6i1",
        "colab_type": "code",
        "colab": {}
      },
      "source": [
        "temp = Dequeue()"
      ],
      "execution_count": 18,
      "outputs": []
    },
    {
      "cell_type": "code",
      "metadata": {
        "id": "yHNPxEMyG9Cn",
        "colab_type": "code",
        "colab": {
          "base_uri": "https://localhost:8080/",
          "height": 34
        },
        "outputId": "d437dc19-6a05-471e-9121-98417411289c"
      },
      "source": [
        "temp.isEmpty()"
      ],
      "execution_count": 19,
      "outputs": [
        {
          "output_type": "execute_result",
          "data": {
            "text/plain": [
              "True"
            ]
          },
          "metadata": {
            "tags": []
          },
          "execution_count": 19
        }
      ]
    },
    {
      "cell_type": "code",
      "metadata": {
        "id": "DKNunoIwG_Bp",
        "colab_type": "code",
        "colab": {}
      },
      "source": [
        "temp.addFront(9)"
      ],
      "execution_count": 22,
      "outputs": []
    },
    {
      "cell_type": "code",
      "metadata": {
        "id": "ts8eRz9yHBkD",
        "colab_type": "code",
        "colab": {}
      },
      "source": [
        "temp.addRear(11)"
      ],
      "execution_count": 23,
      "outputs": []
    },
    {
      "cell_type": "code",
      "metadata": {
        "id": "Y3eIroUVHC6y",
        "colab_type": "code",
        "colab": {
          "base_uri": "https://localhost:8080/",
          "height": 34
        },
        "outputId": "7070e073-e58a-4fc1-c0ba-d05982feb069"
      },
      "source": [
        "temp.size()"
      ],
      "execution_count": 24,
      "outputs": [
        {
          "output_type": "execute_result",
          "data": {
            "text/plain": [
              "4"
            ]
          },
          "metadata": {
            "tags": []
          },
          "execution_count": 24
        }
      ]
    },
    {
      "cell_type": "code",
      "metadata": {
        "id": "Ne22DQOCHEm6",
        "colab_type": "code",
        "colab": {
          "base_uri": "https://localhost:8080/",
          "height": 34
        },
        "outputId": "49982a11-3924-4cac-eb31-553a6da10a19"
      },
      "source": [
        "temp.removeFront()"
      ],
      "execution_count": 25,
      "outputs": [
        {
          "output_type": "execute_result",
          "data": {
            "text/plain": [
              "9"
            ]
          },
          "metadata": {
            "tags": []
          },
          "execution_count": 25
        }
      ]
    },
    {
      "cell_type": "code",
      "metadata": {
        "id": "qSBx4n1PHGki",
        "colab_type": "code",
        "colab": {
          "base_uri": "https://localhost:8080/",
          "height": 34
        },
        "outputId": "e24950b7-817c-4aa7-e785-cd648f6da036"
      },
      "source": [
        "temp.size()"
      ],
      "execution_count": 26,
      "outputs": [
        {
          "output_type": "execute_result",
          "data": {
            "text/plain": [
              "3"
            ]
          },
          "metadata": {
            "tags": []
          },
          "execution_count": 26
        }
      ]
    },
    {
      "cell_type": "code",
      "metadata": {
        "id": "hEz-nI1gHIoM",
        "colab_type": "code",
        "colab": {}
      },
      "source": [
        ""
      ],
      "execution_count": null,
      "outputs": []
    }
  ]
}