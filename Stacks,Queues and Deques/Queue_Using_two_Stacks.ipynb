{
  "nbformat": 4,
  "nbformat_minor": 0,
  "metadata": {
    "colab": {
      "name": "Queue - Using two Stacks.ipynb",
      "provenance": [],
      "collapsed_sections": []
    },
    "kernelspec": {
      "name": "python3",
      "display_name": "Python 3"
    }
  },
  "cells": [
    {
      "cell_type": "markdown",
      "metadata": {
        "id": "Yz2_xHHCp6nq",
        "colab_type": "text"
      },
      "source": [
        "**Implementation of Queue using Two Stacks**"
      ]
    },
    {
      "cell_type": "code",
      "metadata": {
        "id": "Hb2ppP32qDeu",
        "colab_type": "code",
        "colab": {}
      },
      "source": [
        "class doublestack(object):\n",
        "    def __init__(self):\n",
        "        self.stack1 = []\n",
        "        self.stack2 = []\n",
        "    def enqueue(self,element):\n",
        "        self.stack1.append(element)\n",
        "        print(self.stack1)\n",
        "    def dequeue(self):\n",
        "        #Checks for empty stacks\n",
        "        if not self.stack2:\n",
        "            while self.stack1:\n",
        "                self.stack2.append(self.stack1.pop())\n",
        "        print(self.stack2.pop())\n",
        "        #return(self.stack2.pop())\n",
        "    def display(self):\n",
        "        print(self.stack1)"
      ],
      "execution_count": 1,
      "outputs": []
    },
    {
      "cell_type": "code",
      "metadata": {
        "id": "ANZtV0G9qQfu",
        "colab_type": "code",
        "colab": {
          "base_uri": "https://localhost:8080/",
          "height": 194
        },
        "outputId": "79ac3bc5-b27f-48dd-c376-f80f531aef30"
      },
      "source": [
        "q = doublestack()\n",
        "\n",
        "for i in range(5):\n",
        "    q.enqueue(i)\n",
        "for i in range(5):\n",
        "    q.dequeue()"
      ],
      "execution_count": 2,
      "outputs": [
        {
          "output_type": "stream",
          "text": [
            "[0]\n",
            "[0, 1]\n",
            "[0, 1, 2]\n",
            "[0, 1, 2, 3]\n",
            "[0, 1, 2, 3, 4]\n",
            "0\n",
            "1\n",
            "2\n",
            "3\n",
            "4\n"
          ],
          "name": "stdout"
        }
      ]
    }
  ]
}