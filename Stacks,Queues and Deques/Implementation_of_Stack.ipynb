{
  "nbformat": 4,
  "nbformat_minor": 0,
  "metadata": {
    "colab": {
      "name": "Implementation of Stack.ipynb",
      "provenance": []
    },
    "kernelspec": {
      "name": "python3",
      "display_name": "Python 3"
    }
  },
  "cells": [
    {
      "cell_type": "code",
      "metadata": {
        "id": "kEaOeA11G2Sl",
        "colab_type": "code",
        "colab": {}
      },
      "source": [
        "class Stack(object):\n",
        "    def __init__(self):\n",
        "            self.items = []\n",
        "    # Isempty Function\n",
        "    def isEmpty(self):\n",
        "        return self.items == []\n",
        "    # Function to push elements\n",
        "    def push(self,element):\n",
        "        return self.items.append(element)\n",
        "    # Function to pop elements\n",
        "    def pop(self):\n",
        "        return self.items.pop()\n",
        "    # Function to return the top item of the stack\n",
        "    def peek(self):\n",
        "        return self.items[len(self.items)-1]\n",
        "    # Function to return the size of the stack\n",
        "    def size(self):\n",
        "        return len(self.items)"
      ],
      "execution_count": 1,
      "outputs": []
    },
    {
      "cell_type": "code",
      "metadata": {
        "id": "gdEjPt5IG6i1",
        "colab_type": "code",
        "colab": {}
      },
      "source": [
        "temp = Stack()"
      ],
      "execution_count": 2,
      "outputs": []
    },
    {
      "cell_type": "code",
      "metadata": {
        "id": "yHNPxEMyG9Cn",
        "colab_type": "code",
        "colab": {
          "base_uri": "https://localhost:8080/",
          "height": 34
        },
        "outputId": "9afa9975-7c7a-410a-a204-dc355c95a693"
      },
      "source": [
        "temp.isEmpty()"
      ],
      "execution_count": 3,
      "outputs": [
        {
          "output_type": "execute_result",
          "data": {
            "text/plain": [
              "True"
            ]
          },
          "metadata": {
            "tags": []
          },
          "execution_count": 3
        }
      ]
    },
    {
      "cell_type": "code",
      "metadata": {
        "id": "DKNunoIwG_Bp",
        "colab_type": "code",
        "colab": {}
      },
      "source": [
        "temp.push(7)"
      ],
      "execution_count": 4,
      "outputs": []
    },
    {
      "cell_type": "code",
      "metadata": {
        "id": "ts8eRz9yHBkD",
        "colab_type": "code",
        "colab": {}
      },
      "source": [
        "temp.push(10)"
      ],
      "execution_count": 5,
      "outputs": []
    },
    {
      "cell_type": "code",
      "metadata": {
        "id": "Y3eIroUVHC6y",
        "colab_type": "code",
        "colab": {
          "base_uri": "https://localhost:8080/",
          "height": 34
        },
        "outputId": "9a2e5611-8435-44d8-b6bd-937d0f0c9e19"
      },
      "source": [
        "temp.peek()"
      ],
      "execution_count": 6,
      "outputs": [
        {
          "output_type": "execute_result",
          "data": {
            "text/plain": [
              "10"
            ]
          },
          "metadata": {
            "tags": []
          },
          "execution_count": 6
        }
      ]
    },
    {
      "cell_type": "code",
      "metadata": {
        "id": "Ne22DQOCHEm6",
        "colab_type": "code",
        "colab": {
          "base_uri": "https://localhost:8080/",
          "height": 34
        },
        "outputId": "47f0d54c-866a-4fb3-d600-988266c273da"
      },
      "source": [
        "temp.pop()"
      ],
      "execution_count": 7,
      "outputs": [
        {
          "output_type": "execute_result",
          "data": {
            "text/plain": [
              "10"
            ]
          },
          "metadata": {
            "tags": []
          },
          "execution_count": 7
        }
      ]
    },
    {
      "cell_type": "code",
      "metadata": {
        "id": "qSBx4n1PHGki",
        "colab_type": "code",
        "colab": {
          "base_uri": "https://localhost:8080/",
          "height": 34
        },
        "outputId": "3f91a882-221e-466b-c359-cfa483d21fdc"
      },
      "source": [
        "temp.size()"
      ],
      "execution_count": 8,
      "outputs": [
        {
          "output_type": "execute_result",
          "data": {
            "text/plain": [
              "1"
            ]
          },
          "metadata": {
            "tags": []
          },
          "execution_count": 8
        }
      ]
    },
    {
      "cell_type": "code",
      "metadata": {
        "id": "hEz-nI1gHIoM",
        "colab_type": "code",
        "colab": {}
      },
      "source": [
        ""
      ],
      "execution_count": null,
      "outputs": []
    }
  ]
}