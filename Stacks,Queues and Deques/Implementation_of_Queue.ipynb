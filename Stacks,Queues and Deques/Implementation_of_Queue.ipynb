{
  "nbformat": 4,
  "nbformat_minor": 0,
  "metadata": {
    "colab": {
      "name": "Implementation of Queue.ipynb",
      "provenance": [],
      "collapsed_sections": []
    },
    "kernelspec": {
      "name": "python3",
      "display_name": "Python 3"
    }
  },
  "cells": [
    {
      "cell_type": "code",
      "metadata": {
        "id": "kEaOeA11G2Sl",
        "colab_type": "code",
        "colab": {}
      },
      "source": [
        "class Queue(object):\n",
        "    def __init__(self):\n",
        "        self.items = []\n",
        "    \n",
        "    def isEmpty(self):\n",
        "        return self.items == []\n",
        "    \n",
        "    def enqueue(self,item):\n",
        "        self.items.insert(0,item)\n",
        "    \n",
        "    def dequeue(self):\n",
        "        self.items.pop()\n",
        "    \n",
        "    def size(self):\n",
        "        return len(self.items)"
      ],
      "execution_count": 9,
      "outputs": []
    },
    {
      "cell_type": "code",
      "metadata": {
        "id": "gdEjPt5IG6i1",
        "colab_type": "code",
        "colab": {}
      },
      "source": [
        "temp = Queue()"
      ],
      "execution_count": 10,
      "outputs": []
    },
    {
      "cell_type": "code",
      "metadata": {
        "id": "yHNPxEMyG9Cn",
        "colab_type": "code",
        "colab": {
          "base_uri": "https://localhost:8080/",
          "height": 34
        },
        "outputId": "5c7c73c8-d5aa-463e-d039-4ce3228315b0"
      },
      "source": [
        "temp.isEmpty()"
      ],
      "execution_count": 11,
      "outputs": [
        {
          "output_type": "execute_result",
          "data": {
            "text/plain": [
              "True"
            ]
          },
          "metadata": {
            "tags": []
          },
          "execution_count": 11
        }
      ]
    },
    {
      "cell_type": "code",
      "metadata": {
        "id": "DKNunoIwG_Bp",
        "colab_type": "code",
        "colab": {}
      },
      "source": [
        "temp.enqueue(7)"
      ],
      "execution_count": 12,
      "outputs": []
    },
    {
      "cell_type": "code",
      "metadata": {
        "id": "ts8eRz9yHBkD",
        "colab_type": "code",
        "colab": {}
      },
      "source": [
        "temp.enqueue(10)"
      ],
      "execution_count": 13,
      "outputs": []
    },
    {
      "cell_type": "code",
      "metadata": {
        "id": "Y3eIroUVHC6y",
        "colab_type": "code",
        "colab": {
          "base_uri": "https://localhost:8080/",
          "height": 34
        },
        "outputId": "16dfc4c6-fbc0-40d4-e4c4-9aaf498da263"
      },
      "source": [
        "temp.size()"
      ],
      "execution_count": 14,
      "outputs": [
        {
          "output_type": "execute_result",
          "data": {
            "text/plain": [
              "2"
            ]
          },
          "metadata": {
            "tags": []
          },
          "execution_count": 14
        }
      ]
    },
    {
      "cell_type": "code",
      "metadata": {
        "id": "Ne22DQOCHEm6",
        "colab_type": "code",
        "colab": {}
      },
      "source": [
        "temp.dequeue()"
      ],
      "execution_count": 15,
      "outputs": []
    },
    {
      "cell_type": "code",
      "metadata": {
        "id": "qSBx4n1PHGki",
        "colab_type": "code",
        "colab": {
          "base_uri": "https://localhost:8080/",
          "height": 34
        },
        "outputId": "047c8bae-c478-48c6-aab4-b6efccf52edc"
      },
      "source": [
        "temp.size()"
      ],
      "execution_count": 16,
      "outputs": [
        {
          "output_type": "execute_result",
          "data": {
            "text/plain": [
              "1"
            ]
          },
          "metadata": {
            "tags": []
          },
          "execution_count": 16
        }
      ]
    },
    {
      "cell_type": "code",
      "metadata": {
        "id": "hEz-nI1gHIoM",
        "colab_type": "code",
        "colab": {}
      },
      "source": [
        ""
      ],
      "execution_count": null,
      "outputs": []
    }
  ]
}