{
  "nbformat": 4,
  "nbformat_minor": 0,
  "metadata": {
    "colab": {
      "name": "Recursion_Problems.ipynb",
      "provenance": [],
      "collapsed_sections": [],
      "authorship_tag": "ABX9TyO8NwJmGlhYiR059Lxqjepv",
      "include_colab_link": true
    },
    "kernelspec": {
      "name": "python3",
      "display_name": "Python 3"
    }
  },
  "cells": [
    {
      "cell_type": "markdown",
      "metadata": {
        "id": "view-in-github",
        "colab_type": "text"
      },
      "source": [
        "<a href=\"https://colab.research.google.com/github/shreyasshivakumara/Data-Structures/blob/master/Recursion_Problems.ipynb\" target=\"_parent\"><img src=\"https://colab.research.google.com/assets/colab-badge.svg\" alt=\"Open In Colab\"/></a>"
      ]
    },
    {
      "cell_type": "markdown",
      "metadata": {
        "id": "Yz2_xHHCp6nq",
        "colab_type": "text"
      },
      "source": [
        "**Recursion Problems**"
      ]
    },
    {
      "cell_type": "markdown",
      "metadata": {
        "id": "qpo4SWwm8BRL",
        "colab_type": "text"
      },
      "source": [
        "1. Write a Python program to calculate the sum of a list of numbers."
      ]
    },
    {
      "cell_type": "code",
      "metadata": {
        "id": "Hb2ppP32qDeu",
        "colab_type": "code",
        "colab": {}
      },
      "source": [
        "def adding(s):\n",
        "  if len(s) <= 1:\n",
        "    return s[0]\n",
        "  else:\n",
        "    return s[0] + adding(s[1:])"
      ],
      "execution_count": 73,
      "outputs": []
    },
    {
      "cell_type": "code",
      "metadata": {
        "id": "ANZtV0G9qQfu",
        "colab_type": "code",
        "colab": {}
      },
      "source": [
        "data = [7,2,5]"
      ],
      "execution_count": 74,
      "outputs": []
    },
    {
      "cell_type": "code",
      "metadata": {
        "id": "4Eq0UVvEoM5i",
        "colab_type": "code",
        "colab": {
          "base_uri": "https://localhost:8080/",
          "height": 34
        },
        "outputId": "4fffcde5-63ff-4597-e8d8-183a0fd6d7e1"
      },
      "source": [
        "adding(data)"
      ],
      "execution_count": 75,
      "outputs": [
        {
          "output_type": "execute_result",
          "data": {
            "text/plain": [
              "14"
            ]
          },
          "metadata": {
            "tags": []
          },
          "execution_count": 75
        }
      ]
    },
    {
      "cell_type": "markdown",
      "metadata": {
        "id": "B1ueeTKnaUj3",
        "colab_type": "text"
      },
      "source": [
        "2. Write a Python program to converting an Integer to a string in any base"
      ]
    },
    {
      "cell_type": "code",
      "metadata": {
        "id": "_j-yhCAMoRrE",
        "colab_type": "code",
        "colab": {}
      },
      "source": [
        "test = [1, 2, [3,4], [5,6]]\n"
      ],
      "execution_count": 81,
      "outputs": []
    },
    {
      "cell_type": "code",
      "metadata": {
        "id": "SM3sRiVMbnfY",
        "colab_type": "code",
        "colab": {}
      },
      "source": [
        "def list_summing(data):\n",
        "  total = 0\n",
        "  for element in data:\n",
        "    if type(element) == type([]):\n",
        "      total += list_summing(element)\n",
        "    else:\n",
        "      total += element\n",
        "  return total"
      ],
      "execution_count": 101,
      "outputs": []
    },
    {
      "cell_type": "code",
      "metadata": {
        "id": "FLaaASbkcQHn",
        "colab_type": "code",
        "colab": {
          "base_uri": "https://localhost:8080/",
          "height": 34
        },
        "outputId": "c7d3cb63-3e8f-46f8-c905-a732f6a04439"
      },
      "source": [
        "list_summing(test)"
      ],
      "execution_count": 102,
      "outputs": [
        {
          "output_type": "execute_result",
          "data": {
            "text/plain": [
              "21"
            ]
          },
          "metadata": {
            "tags": []
          },
          "execution_count": 102
        }
      ]
    },
    {
      "cell_type": "markdown",
      "metadata": {
        "id": "17Ot70SWeu6L",
        "colab_type": "text"
      },
      "source": [
        "3. Write a Python program to get the factorial of a non-negative integer."
      ]
    },
    {
      "cell_type": "code",
      "metadata": {
        "id": "-DTQCdzvcTzW",
        "colab_type": "code",
        "colab": {}
      },
      "source": [
        "def factorial(n):\n",
        "  if n <= 1:\n",
        "    return n\n",
        "  else:\n",
        "    return n*factorial(n-1)"
      ],
      "execution_count": 105,
      "outputs": []
    },
    {
      "cell_type": "code",
      "metadata": {
        "id": "AXs6432de9-D",
        "colab_type": "code",
        "colab": {
          "base_uri": "https://localhost:8080/",
          "height": 34
        },
        "outputId": "18f59e28-efe0-4650-c969-fa97499c530e"
      },
      "source": [
        "factorial(5)"
      ],
      "execution_count": 107,
      "outputs": [
        {
          "output_type": "execute_result",
          "data": {
            "text/plain": [
              "120"
            ]
          },
          "metadata": {
            "tags": []
          },
          "execution_count": 107
        }
      ]
    },
    {
      "cell_type": "markdown",
      "metadata": {
        "id": "ooF0q4h3fd39",
        "colab_type": "text"
      },
      "source": [
        " 4. Write a Python program to solve the Fibonacci sequence using recursion"
      ]
    },
    {
      "cell_type": "code",
      "metadata": {
        "id": "fNw6GFwCfarf",
        "colab_type": "code",
        "colab": {}
      },
      "source": [
        "def fibo(n):\n",
        "  if n == 1 or n ==2:\n",
        "    return 1\n",
        "  else:\n",
        "    return fibo(n-1) + fibo(n-2)"
      ],
      "execution_count": 109,
      "outputs": []
    },
    {
      "cell_type": "code",
      "metadata": {
        "id": "ob6GODt2fu1f",
        "colab_type": "code",
        "colab": {
          "base_uri": "https://localhost:8080/",
          "height": 34
        },
        "outputId": "c4dc702d-91e2-4f4c-9610-f29a422e0829"
      },
      "source": [
        "fibo(7)"
      ],
      "execution_count": 111,
      "outputs": [
        {
          "output_type": "execute_result",
          "data": {
            "text/plain": [
              "13"
            ]
          },
          "metadata": {
            "tags": []
          },
          "execution_count": 111
        }
      ]
    },
    {
      "cell_type": "markdown",
      "metadata": {
        "id": "dJ_rAjDJf8uy",
        "colab_type": "text"
      },
      "source": [
        "5. Write a Python program to get the sum of a non-negative integer"
      ]
    },
    {
      "cell_type": "code",
      "metadata": {
        "id": "c2kpxGCWfwDe",
        "colab_type": "code",
        "colab": {}
      },
      "source": [
        "def sum_digits(numbers):\n",
        "  if numbers == 0:\n",
        "    return numbers\n",
        "  else:\n",
        "    return sum_digits(int(numbers/10)) + numbers%10"
      ],
      "execution_count": 126,
      "outputs": []
    },
    {
      "cell_type": "code",
      "metadata": {
        "id": "8kh918zGgUIz",
        "colab_type": "code",
        "colab": {
          "base_uri": "https://localhost:8080/",
          "height": 34
        },
        "outputId": "fac6833f-3c80-4de3-935c-b0de6474605c"
      },
      "source": [
        "sum_digits(2535)"
      ],
      "execution_count": 130,
      "outputs": [
        {
          "output_type": "execute_result",
          "data": {
            "text/plain": [
              "15"
            ]
          },
          "metadata": {
            "tags": []
          },
          "execution_count": 130
        }
      ]
    },
    {
      "cell_type": "code",
      "metadata": {
        "id": "7vzyBQYkgV9_",
        "colab_type": "code",
        "colab": {}
      },
      "source": [
        ""
      ],
      "execution_count": null,
      "outputs": []
    }
  ]
}